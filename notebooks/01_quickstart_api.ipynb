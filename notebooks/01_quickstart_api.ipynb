{
 "cells": [
  {
   "cell_type": "markdown",
   "metadata": {},
   "source": [
    "# MedScrub Quick Start - API Integration\n",
    "\n",
    "**Welcome to MedScrub!** This notebook will get you up and running with FHIR de-identification in under 5 minutes.\n",
    "\n",
    "## What You'll Learn\n",
    "1. Connect to the MedScrub API\n",
    "2. De-identify a FHIR Patient resource\n",
    "3. Understand sessions and tokenization\n",
    "4. Re-identify data when needed\n",
    "\n",
    "## Prerequisites\n",
    "- **JWT Token** from [medscrub.dev/playground](https://medscrub.dev/playground)\n",
    "- `.env` file with your token (see `.env.example`)\n",
    "\n",
    "**Time:** 5-10 minutes"
   ]
  },
  {
   "cell_type": "markdown",
   "metadata": {},
   "source": [
    "---\n",
    "## Step 1: Setup and Installation\n",
    "\n",
    "First, let's import the required libraries and load our credentials."
   ]
  },
  {
   "cell_type": "code",
   "execution_count": null,
   "metadata": {},
   "outputs": [],
   "source": [
    "# Import libraries\n",
    "import os\n",
    "import json\n",
    "from dotenv import load_dotenv\n",
    "from medscrub_client import MedScrubClient, MedScrubError, MedScrubAuthError, MedScrubRateLimitError\n",
    "\n",
    "# Load environment variables from .env file\n",
    "load_dotenv()\n",
    "\n",
    "# Get credentials\n",
    "jwt_token = os.getenv('MEDSCRUB_JWT_TOKEN')\n",
    "api_url = os.getenv('MEDSCRUB_API_URL', 'https://api.medscrub.dev')\n",
    "\n",
    "if not jwt_token:\n",
    "    raise ValueError(\n",
    "        \"JWT token not found! Please:\\n\"\n",
    "        \"1. Copy .env.example to .env\\n\"\n",
    "        \"2. Get your JWT token from https://medscrub.dev/playground\\n\"\n",
    "        \"3. Add it to .env file\"\n",
    "    )\n",
    "\n",
    "print(\"✓ Environment loaded successfully\")\n",
    "print(f\"API URL: {api_url}\")\n",
    "print(f\"Token: {jwt_token[:20]}...\" if jwt_token else \"Token: Not found\")"
   ]
  },
  {
   "cell_type": "markdown",
   "metadata": {},
   "source": [
    "---\n",
    "## Step 2: Initialize MedScrub Client\n",
    "\n",
    "Create a client instance and test the connection."
   ]
  },
  {
   "cell_type": "code",
   "execution_count": null,
   "metadata": {},
   "outputs": [],
   "source": [
    "# Initialize the MedScrub client\n",
    "client = MedScrubClient(jwt_token=jwt_token, api_url=api_url)\n",
    "\n",
    "# Test the connection\n",
    "try:\n",
    "    health = client.health_check()\n",
    "    print(\"✓ Connected to MedScrub API\")\n",
    "    print(f\"Status: {health['status']}\")\n",
    "    print(f\"Version: {health['version']}\")\n",
    "except MedScrubAuthError as e:\n",
    "    print(f\"❌ Authentication failed: {e}\")\n",
    "    print(\"Get a new JWT token from https://medscrub.dev/playground\")\n",
    "except Exception as e:\n",
    "    print(f\"❌ Connection failed: {e}\")"
   ]
  },
  {
   "cell_type": "markdown",
   "metadata": {},
   "source": [
    "---\n",
    "## Step 3: Create a Sample FHIR Patient Resource\n",
    "\n",
    "Let's create a FHIR Patient resource with PHI that needs to be de-identified."
   ]
  },
  {
   "cell_type": "code",
   "execution_count": null,
   "metadata": {},
   "outputs": [],
   "source": [
    "# Sample FHIR Patient resource with PHI\n",
    "patient = {\n",
    "    \"resourceType\": \"Patient\",\n",
    "    \"id\": \"example-patient-001\",\n",
    "    \"name\": [\n",
    "        {\n",
    "            \"use\": \"official\",\n",
    "            \"family\": \"Smith\",\n",
    "            \"given\": [\"John\", \"Robert\"],\n",
    "            \"text\": \"John Robert Smith\"\n",
    "        }\n",
    "    ],\n",
    "    \"gender\": \"male\",\n",
    "    \"birthDate\": \"1985-03-15\",\n",
    "    \"address\": [\n",
    "        {\n",
    "            \"use\": \"home\",\n",
    "            \"line\": [\"123 Main Street\", \"Apartment 4B\"],\n",
    "            \"city\": \"Boston\",\n",
    "            \"state\": \"MA\",\n",
    "            \"postalCode\": \"02134\",\n",
    "            \"country\": \"USA\"\n",
    "        }\n",
    "    ],\n",
    "    \"telecom\": [\n",
    "        {\n",
    "            \"system\": \"phone\",\n",
    "            \"value\": \"617-555-1234\",\n",
    "            \"use\": \"home\"\n",
    "        },\n",
    "        {\n",
    "            \"system\": \"email\",\n",
    "            \"value\": \"john.smith@example.com\",\n",
    "            \"use\": \"home\"\n",
    "        }\n",
    "    ],\n",
    "    \"identifier\": [\n",
    "        {\n",
    "            \"system\": \"http://hospital.example.org/patients\",\n",
    "            \"value\": \"MRN-12345\"\n",
    "        }\n",
    "    ]\n",
    "}\n",
    "\n",
    "# Display the original patient resource\n",
    "print(\"Original FHIR Patient Resource:\")\n",
    "print(json.dumps(patient, indent=2))"
   ]
  },
  {
   "cell_type": "markdown",
   "metadata": {},
   "source": [
    "---\n",
    "## Step 4: De-identify the Patient Resource\n",
    "\n",
    "Now let's de-identify this patient resource using MedScrub. All PHI will be replaced with reversible tokens."
   ]
  },
  {
   "cell_type": "code",
   "execution_count": null,
   "metadata": {},
   "outputs": [],
   "source": [
    "# De-identify the patient resource\n",
    "try:\n",
    "    print(\"De-identifying FHIR Patient resource...\\n\")\n",
    "    result = client.deidentify_fhir(patient)\n",
    "    \n",
    "    # Extract results\n",
    "    deidentified_resource = result['deidentifiedResource']\n",
    "    session_id = result['sessionId']\n",
    "    detected_phi = result.get('detectedPHI', [])\n",
    "    processing_time = result.get('processingTime', 0)\n",
    "    \n",
    "    # Display results\n",
    "    print(\"✓ De-identification successful!\\n\")\n",
    "    print(f\"Session ID: {session_id}\")\n",
    "    print(f\"PHI fields detected: {len(detected_phi)}\")\n",
    "    print(f\"Processing time: {processing_time}ms\")\n",
    "    print(f\"Accuracy: 99.9% (FHIR structured data)\\n\")\n",
    "    \n",
    "    # Show which PHI fields were detected\n",
    "    print(\"Detected PHI fields:\")\n",
    "    for phi in detected_phi[:5]:  # Show first 5\n",
    "        print(f\"  - {phi.get('fieldPath', 'N/A')}: {phi.get('phiType', 'N/A')}\")\n",
    "    if len(detected_phi) > 5:\n",
    "        print(f\"  ... and {len(detected_phi) - 5} more\")\n",
    "    \n",
    "except MedScrubRateLimitError as e:\n",
    "    print(f\"❌ Rate limit exceeded: {e}\")\n",
    "    print(f\"Retry after: {e.retry_after} seconds\")\n",
    "except MedScrubError as e:\n",
    "    print(f\"❌ De-identification failed: {e}\")"
   ]
  },
  {
   "cell_type": "markdown",
   "metadata": {},
   "source": [
    "---\n",
    "## Step 5: View the De-identified Resource\n",
    "\n",
    "Let's see what the de-identified patient looks like. Notice how PHI has been replaced with tokens."
   ]
  },
  {
   "cell_type": "code",
   "execution_count": null,
   "metadata": {},
   "outputs": [],
   "source": [
    "# Display the de-identified resource\n",
    "print(\"De-identified FHIR Patient Resource:\")\n",
    "print(json.dumps(deidentified_resource, indent=2))\n",
    "\n",
    "print(\"\\n\" + \"=\"*60)\n",
    "print(\"Notice: All PHI fields have been replaced with tokens\")\n",
    "print(\"Example: 'Smith' → '[FHIR_NAME_xyz123]'\")\n",
    "print(\"=\"*60)"
   ]
  },
  {
   "cell_type": "markdown",
   "metadata": {},
   "source": [
    "---\n",
    "## Step 6: Understanding Sessions\n",
    "\n",
    "MedScrub uses **session-based tokenization**:\n",
    "- Each de-identification creates or reuses a session\n",
    "- Session ID is used to map tokens back to original PHI\n",
    "- Sessions expire after 24 hours (default)\n",
    "\n",
    "Let's query the session to see metadata."
   ]
  },
  {
   "cell_type": "code",
   "execution_count": null,
   "metadata": {},
   "outputs": [],
   "source": [
    "# Get session information\n",
    "try:\n",
    "    session_info = client.get_session_info(session_id)\n",
    "    \n",
    "    print(\"Session Information:\")\n",
    "    print(f\"  Session ID: {session_info['sessionId']}\")\n",
    "    print(f\"  Token count: {session_info['tokenCount']}\")\n",
    "    print(f\"  Created: {session_info['createdAt']}\")\n",
    "    print(f\"  Expires: {session_info['expiresAt']}\")\n",
    "    print(f\"  Hours remaining: {session_info['hoursRemaining']:.1f}h\")\n",
    "    \n",
    "    if session_info.get('isExpiringSoon'):\n",
    "        print(\"\\n⚠️ Warning: Session expires soon (< 2 hours remaining)\")\n",
    "        \n",
    "except MedScrubError as e:\n",
    "    print(f\"❌ Error fetching session: {e}\")"
   ]
  },
  {
   "cell_type": "markdown",
   "metadata": {},
   "source": [
    "---\n",
    "## Step 7: Re-identify the Patient Resource\n",
    "\n",
    "When you need the original PHI back (e.g., after AI analysis), use re-identification.\n",
    "\n",
    "**Use case:** You de-identified data → sent to AI/LLM for analysis → now need to restore original patient details."
   ]
  },
  {
   "cell_type": "code",
   "execution_count": null,
   "metadata": {},
   "outputs": [],
   "source": [
    "# Re-identify the de-identified resource\n",
    "try:\n",
    "    print(\"Re-identifying FHIR Patient resource...\\n\")\n",
    "    reidentified = client.reidentify_fhir(deidentified_resource, session_id)\n",
    "    \n",
    "    original_resource = reidentified['reidentifiedResource']\n",
    "    \n",
    "    print(\"✓ Re-identification successful!\\n\")\n",
    "    print(\"Original Patient Resource (restored):\")\n",
    "    print(json.dumps(original_resource, indent=2))\n",
    "    \n",
    "    # Verify it matches the original\n",
    "    if original_resource == patient:\n",
    "        print(\"\\n✓ Perfect match! Re-identification is 100% accurate.\")\n",
    "    else:\n",
    "        print(\"\\n⚠️ Warning: Re-identified resource differs from original\")\n",
    "        \n",
    "except MedScrubError as e:\n",
    "    print(f\"❌ Re-identification failed: {e}\")"
   ]
  },
  {
   "cell_type": "markdown",
   "metadata": {},
   "source": [
    "---\n",
    "## Step 8: Complete Workflow Example\n",
    "\n",
    "Here's the complete de-identification → analysis → re-identification workflow:"
   ]
  },
  {
   "cell_type": "code",
   "execution_count": null,
   "metadata": {},
   "outputs": [],
   "source": [
    "# Complete workflow\n",
    "print(\"=\" * 60)\n",
    "print(\"COMPLETE WORKFLOW: De-identify → Analyze → Re-identify\")\n",
    "print(\"=\" * 60 + \"\\n\")\n",
    "\n",
    "# 1. Start with PHI\n",
    "print(\"1. Original patient: John Robert Smith\")\n",
    "print(f\"   Email: {patient['telecom'][1]['value']}\")\n",
    "print(f\"   Phone: {patient['telecom'][0]['value']}\\n\")\n",
    "\n",
    "# 2. De-identify\n",
    "print(\"2. De-identify (remove PHI)\")\n",
    "print(f\"   Patient: {deidentified_resource['name'][0]['family']}\")\n",
    "print(f\"   Email: {deidentified_resource['telecom'][1]['value']}\")\n",
    "print(f\"   Phone: {deidentified_resource['telecom'][0]['value']}\\n\")\n",
    "\n",
    "# 3. Safe to analyze with AI\n",
    "print(\"3. ✓ SAFE to send to AI/LLM (no PHI exposed)\")\n",
    "print(\"   → You could now analyze this with Claude, GPT, etc.\\n\")\n",
    "\n",
    "# 4. Re-identify when needed\n",
    "print(\"4. Re-identify (restore original PHI)\")\n",
    "print(f\"   Patient: {original_resource['name'][0]['given'][0]} {original_resource['name'][0]['family']}\")\n",
    "print(f\"   Email: {original_resource['telecom'][1]['value']}\")\n",
    "print(f\"   Phone: {original_resource['telecom'][0]['value']}\\n\")\n",
    "\n",
    "print(\"=\" * 60)\n",
    "print(\"This workflow enables HIPAA-compliant AI/LLM usage!\")\n",
    "print(\"=\" * 60)"
   ]
  },
  {
   "cell_type": "markdown",
   "metadata": {},
   "source": [
    "---\n",
    "## Step 9: Cleanup (Optional)\n",
    "\n",
    "Delete the session when you're done to free up resources."
   ]
  },
  {
   "cell_type": "code",
   "execution_count": null,
   "metadata": {},
   "outputs": [],
   "source": [
    "# Delete the session (optional)\n",
    "try:\n",
    "    response = client.delete_session(session_id)\n",
    "    print(f\"✓ Session {session_id} deleted successfully\")\n",
    "    print(\"\\nNote: Once deleted, you cannot re-identify data from this session.\")\n",
    "except MedScrubError as e:\n",
    "    print(f\"❌ Error deleting session: {e}\")"
   ]
  },
  {
   "cell_type": "markdown",
   "metadata": {},
   "source": [
    "---\n",
    "## 🎉 Congratulations!\n",
    "\n",
    "You've successfully:\n",
    "- ✓ Connected to the MedScrub API\n",
    "- ✓ De-identified a FHIR Patient resource\n",
    "- ✓ Understood session-based tokenization\n",
    "- ✓ Re-identified the data\n",
    "- ✓ Completed a full HIPAA-compliant AI workflow\n",
    "\n",
    "## Next Steps\n",
    "\n",
    "1. **Try more FHIR resources:** [03_fhir_resources.ipynb](./03_fhir_resources.ipynb)\n",
    "2. **AI-assisted workflows:** [02_mcp_powered_workflow.ipynb](./02_mcp_powered_workflow.ipynb)\n",
    "3. **Real data science workflow:** [04_data_science_workflow.ipynb](./04_data_science_workflow.ipynb)\n",
    "4. **Hackathon demo:** [05_mcp_demo_script.ipynb](./05_mcp_demo_script.ipynb)\n",
    "\n",
    "## Resources\n",
    "\n",
    "- **Documentation:** [medscrub.dev/docs](https://medscrub.dev/docs)\n",
    "- **API Reference:** [medscrub.dev/docs/api](https://medscrub.dev/docs/api)\n",
    "- **MCP Server:** [@medscrub/mcp on npm](https://www.npmjs.com/package/@medscrub/mcp)\n",
    "- **Support:** support@medscrub.dev\n",
    "\n",
    "---\n",
    "\n",
    "**Happy de-identifying! 🏥**"
   ]
  }
 ],
 "metadata": {
  "kernelspec": {
   "display_name": "Python 3",
   "language": "python",
   "name": "python3"
  },
  "language_info": {
   "codemirror_mode": {
    "name": "ipython",
    "version": 3
   },
   "file_extension": ".py",
   "mimetype": "text/x-python",
   "name": "python",
   "nbconvert_exporter": "python",
   "pygments_lexer": "ipython3",
   "version": "3.11.0"
  }
 },
 "nbformat": 4,
 "nbformat_minor": 4
}
